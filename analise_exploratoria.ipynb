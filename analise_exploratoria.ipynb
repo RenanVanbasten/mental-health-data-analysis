{
 "cells": [
  {
   "cell_type": "code",
   "execution_count": 2,
   "id": "34e4982b",
   "metadata": {},
   "outputs": [],
   "source": [
    "import pandas as pd, matplotlib.pyplot as plt, seaborn as sns, numpy as np;\n",
    "from scipy.stats import chi2_contingency;"
   ]
  },
  {
   "cell_type": "code",
   "execution_count": 3,
   "id": "8a14ed00",
   "metadata": {},
   "outputs": [],
   "source": [
    "df = pd.read_csv('student_depression_dataset.csv');"
   ]
  },
  {
   "cell_type": "code",
   "execution_count": 4,
   "id": "ecdf42ca",
   "metadata": {},
   "outputs": [
    {
     "data": {
      "text/html": [
       "<div>\n",
       "<style scoped>\n",
       "    .dataframe tbody tr th:only-of-type {\n",
       "        vertical-align: middle;\n",
       "    }\n",
       "\n",
       "    .dataframe tbody tr th {\n",
       "        vertical-align: top;\n",
       "    }\n",
       "\n",
       "    .dataframe thead th {\n",
       "        text-align: right;\n",
       "    }\n",
       "</style>\n",
       "<table border=\"1\" class=\"dataframe\">\n",
       "  <thead>\n",
       "    <tr style=\"text-align: right;\">\n",
       "      <th></th>\n",
       "      <th>id</th>\n",
       "      <th>Gender</th>\n",
       "      <th>Age</th>\n",
       "      <th>City</th>\n",
       "      <th>Profession</th>\n",
       "      <th>Academic Pressure</th>\n",
       "      <th>Work Pressure</th>\n",
       "      <th>CGPA</th>\n",
       "      <th>Study Satisfaction</th>\n",
       "      <th>Job Satisfaction</th>\n",
       "      <th>Sleep Duration</th>\n",
       "      <th>Dietary Habits</th>\n",
       "      <th>Degree</th>\n",
       "      <th>Have you ever had suicidal thoughts ?</th>\n",
       "      <th>Work/Study Hours</th>\n",
       "      <th>Financial Stress</th>\n",
       "      <th>Family History of Mental Illness</th>\n",
       "      <th>Depression</th>\n",
       "    </tr>\n",
       "  </thead>\n",
       "  <tbody>\n",
       "    <tr>\n",
       "      <th>0</th>\n",
       "      <td>2</td>\n",
       "      <td>Male</td>\n",
       "      <td>33.0</td>\n",
       "      <td>Visakhapatnam</td>\n",
       "      <td>Student</td>\n",
       "      <td>5.0</td>\n",
       "      <td>0.0</td>\n",
       "      <td>8.97</td>\n",
       "      <td>2.0</td>\n",
       "      <td>0.0</td>\n",
       "      <td>'5-6 hours'</td>\n",
       "      <td>Healthy</td>\n",
       "      <td>B.Pharm</td>\n",
       "      <td>Yes</td>\n",
       "      <td>3.0</td>\n",
       "      <td>1.0</td>\n",
       "      <td>No</td>\n",
       "      <td>1</td>\n",
       "    </tr>\n",
       "    <tr>\n",
       "      <th>1</th>\n",
       "      <td>8</td>\n",
       "      <td>Female</td>\n",
       "      <td>24.0</td>\n",
       "      <td>Bangalore</td>\n",
       "      <td>Student</td>\n",
       "      <td>2.0</td>\n",
       "      <td>0.0</td>\n",
       "      <td>5.90</td>\n",
       "      <td>5.0</td>\n",
       "      <td>0.0</td>\n",
       "      <td>'5-6 hours'</td>\n",
       "      <td>Moderate</td>\n",
       "      <td>BSc</td>\n",
       "      <td>No</td>\n",
       "      <td>3.0</td>\n",
       "      <td>2.0</td>\n",
       "      <td>Yes</td>\n",
       "      <td>0</td>\n",
       "    </tr>\n",
       "    <tr>\n",
       "      <th>2</th>\n",
       "      <td>26</td>\n",
       "      <td>Male</td>\n",
       "      <td>31.0</td>\n",
       "      <td>Srinagar</td>\n",
       "      <td>Student</td>\n",
       "      <td>3.0</td>\n",
       "      <td>0.0</td>\n",
       "      <td>7.03</td>\n",
       "      <td>5.0</td>\n",
       "      <td>0.0</td>\n",
       "      <td>'Less than 5 hours'</td>\n",
       "      <td>Healthy</td>\n",
       "      <td>BA</td>\n",
       "      <td>No</td>\n",
       "      <td>9.0</td>\n",
       "      <td>1.0</td>\n",
       "      <td>Yes</td>\n",
       "      <td>0</td>\n",
       "    </tr>\n",
       "    <tr>\n",
       "      <th>3</th>\n",
       "      <td>30</td>\n",
       "      <td>Female</td>\n",
       "      <td>28.0</td>\n",
       "      <td>Varanasi</td>\n",
       "      <td>Student</td>\n",
       "      <td>3.0</td>\n",
       "      <td>0.0</td>\n",
       "      <td>5.59</td>\n",
       "      <td>2.0</td>\n",
       "      <td>0.0</td>\n",
       "      <td>'7-8 hours'</td>\n",
       "      <td>Moderate</td>\n",
       "      <td>BCA</td>\n",
       "      <td>Yes</td>\n",
       "      <td>4.0</td>\n",
       "      <td>5.0</td>\n",
       "      <td>Yes</td>\n",
       "      <td>1</td>\n",
       "    </tr>\n",
       "    <tr>\n",
       "      <th>4</th>\n",
       "      <td>32</td>\n",
       "      <td>Female</td>\n",
       "      <td>25.0</td>\n",
       "      <td>Jaipur</td>\n",
       "      <td>Student</td>\n",
       "      <td>4.0</td>\n",
       "      <td>0.0</td>\n",
       "      <td>8.13</td>\n",
       "      <td>3.0</td>\n",
       "      <td>0.0</td>\n",
       "      <td>'5-6 hours'</td>\n",
       "      <td>Moderate</td>\n",
       "      <td>M.Tech</td>\n",
       "      <td>Yes</td>\n",
       "      <td>1.0</td>\n",
       "      <td>1.0</td>\n",
       "      <td>No</td>\n",
       "      <td>0</td>\n",
       "    </tr>\n",
       "  </tbody>\n",
       "</table>\n",
       "</div>"
      ],
      "text/plain": [
       "   id  Gender   Age           City Profession  Academic Pressure  \\\n",
       "0   2    Male  33.0  Visakhapatnam    Student                5.0   \n",
       "1   8  Female  24.0      Bangalore    Student                2.0   \n",
       "2  26    Male  31.0       Srinagar    Student                3.0   \n",
       "3  30  Female  28.0       Varanasi    Student                3.0   \n",
       "4  32  Female  25.0         Jaipur    Student                4.0   \n",
       "\n",
       "   Work Pressure  CGPA  Study Satisfaction  Job Satisfaction  \\\n",
       "0            0.0  8.97                 2.0               0.0   \n",
       "1            0.0  5.90                 5.0               0.0   \n",
       "2            0.0  7.03                 5.0               0.0   \n",
       "3            0.0  5.59                 2.0               0.0   \n",
       "4            0.0  8.13                 3.0               0.0   \n",
       "\n",
       "        Sleep Duration Dietary Habits   Degree  \\\n",
       "0          '5-6 hours'        Healthy  B.Pharm   \n",
       "1          '5-6 hours'       Moderate      BSc   \n",
       "2  'Less than 5 hours'        Healthy       BA   \n",
       "3          '7-8 hours'       Moderate      BCA   \n",
       "4          '5-6 hours'       Moderate   M.Tech   \n",
       "\n",
       "  Have you ever had suicidal thoughts ?  Work/Study Hours Financial Stress  \\\n",
       "0                                   Yes               3.0              1.0   \n",
       "1                                    No               3.0              2.0   \n",
       "2                                    No               9.0              1.0   \n",
       "3                                   Yes               4.0              5.0   \n",
       "4                                   Yes               1.0              1.0   \n",
       "\n",
       "  Family History of Mental Illness  Depression  \n",
       "0                               No           1  \n",
       "1                              Yes           0  \n",
       "2                              Yes           0  \n",
       "3                              Yes           1  \n",
       "4                               No           0  "
      ]
     },
     "execution_count": 4,
     "metadata": {},
     "output_type": "execute_result"
    }
   ],
   "source": [
    "df.head(5)"
   ]
  },
  {
   "cell_type": "code",
   "execution_count": 5,
   "id": "e495b70e",
   "metadata": {},
   "outputs": [
    {
     "data": {
      "text/plain": [
       "(27901, 18)"
      ]
     },
     "execution_count": 5,
     "metadata": {},
     "output_type": "execute_result"
    }
   ],
   "source": [
    "df.shape"
   ]
  },
  {
   "cell_type": "code",
   "execution_count": 6,
   "id": "31aeaf6b",
   "metadata": {},
   "outputs": [
    {
     "name": "stdout",
     "output_type": "stream",
     "text": [
      "<class 'pandas.core.frame.DataFrame'>\n",
      "RangeIndex: 27901 entries, 0 to 27900\n",
      "Data columns (total 18 columns):\n",
      " #   Column                                 Non-Null Count  Dtype  \n",
      "---  ------                                 --------------  -----  \n",
      " 0   id                                     27901 non-null  int64  \n",
      " 1   Gender                                 27901 non-null  object \n",
      " 2   Age                                    27901 non-null  float64\n",
      " 3   City                                   27901 non-null  object \n",
      " 4   Profession                             27901 non-null  object \n",
      " 5   Academic Pressure                      27901 non-null  float64\n",
      " 6   Work Pressure                          27901 non-null  float64\n",
      " 7   CGPA                                   27901 non-null  float64\n",
      " 8   Study Satisfaction                     27901 non-null  float64\n",
      " 9   Job Satisfaction                       27901 non-null  float64\n",
      " 10  Sleep Duration                         27901 non-null  object \n",
      " 11  Dietary Habits                         27901 non-null  object \n",
      " 12  Degree                                 27901 non-null  object \n",
      " 13  Have you ever had suicidal thoughts ?  27901 non-null  object \n",
      " 14  Work/Study Hours                       27901 non-null  float64\n",
      " 15  Financial Stress                       27901 non-null  object \n",
      " 16  Family History of Mental Illness       27901 non-null  object \n",
      " 17  Depression                             27901 non-null  int64  \n",
      "dtypes: float64(7), int64(2), object(9)\n",
      "memory usage: 3.8+ MB\n"
     ]
    }
   ],
   "source": [
    "df.info()"
   ]
  },
  {
   "cell_type": "code",
   "execution_count": 7,
   "id": "47f5bb08",
   "metadata": {},
   "outputs": [
    {
     "data": {
      "text/plain": [
       "16336"
      ]
     },
     "execution_count": 7,
     "metadata": {},
     "output_type": "execute_result"
    }
   ],
   "source": [
    "df[df[\"Depression\"] == 1].shape[0]"
   ]
  },
  {
   "cell_type": "code",
   "execution_count": 8,
   "id": "e022a4c4",
   "metadata": {},
   "outputs": [],
   "source": [
    "df.columns = df.columns.str.lower()"
   ]
  },
  {
   "cell_type": "code",
   "execution_count": 9,
   "id": "bda47a84",
   "metadata": {},
   "outputs": [
    {
     "data": {
      "text/html": [
       "<div>\n",
       "<style scoped>\n",
       "    .dataframe tbody tr th:only-of-type {\n",
       "        vertical-align: middle;\n",
       "    }\n",
       "\n",
       "    .dataframe tbody tr th {\n",
       "        vertical-align: top;\n",
       "    }\n",
       "\n",
       "    .dataframe thead th {\n",
       "        text-align: right;\n",
       "    }\n",
       "</style>\n",
       "<table border=\"1\" class=\"dataframe\">\n",
       "  <thead>\n",
       "    <tr style=\"text-align: right;\">\n",
       "      <th></th>\n",
       "      <th>id</th>\n",
       "      <th>gender</th>\n",
       "      <th>age</th>\n",
       "      <th>city</th>\n",
       "      <th>profession</th>\n",
       "      <th>academic pressure</th>\n",
       "      <th>work pressure</th>\n",
       "      <th>cgpa</th>\n",
       "      <th>study satisfaction</th>\n",
       "      <th>job satisfaction</th>\n",
       "      <th>sleep duration</th>\n",
       "      <th>dietary habits</th>\n",
       "      <th>degree</th>\n",
       "      <th>have you ever had suicidal thoughts ?</th>\n",
       "      <th>work/study hours</th>\n",
       "      <th>financial stress</th>\n",
       "      <th>family history of mental illness</th>\n",
       "      <th>depression</th>\n",
       "    </tr>\n",
       "  </thead>\n",
       "  <tbody>\n",
       "    <tr>\n",
       "      <th>0</th>\n",
       "      <td>2</td>\n",
       "      <td>Male</td>\n",
       "      <td>33.0</td>\n",
       "      <td>Visakhapatnam</td>\n",
       "      <td>Student</td>\n",
       "      <td>5.0</td>\n",
       "      <td>0.0</td>\n",
       "      <td>8.97</td>\n",
       "      <td>2.0</td>\n",
       "      <td>0.0</td>\n",
       "      <td>'5-6 hours'</td>\n",
       "      <td>Healthy</td>\n",
       "      <td>B.Pharm</td>\n",
       "      <td>Yes</td>\n",
       "      <td>3.0</td>\n",
       "      <td>1.0</td>\n",
       "      <td>No</td>\n",
       "      <td>1</td>\n",
       "    </tr>\n",
       "    <tr>\n",
       "      <th>1</th>\n",
       "      <td>8</td>\n",
       "      <td>Female</td>\n",
       "      <td>24.0</td>\n",
       "      <td>Bangalore</td>\n",
       "      <td>Student</td>\n",
       "      <td>2.0</td>\n",
       "      <td>0.0</td>\n",
       "      <td>5.90</td>\n",
       "      <td>5.0</td>\n",
       "      <td>0.0</td>\n",
       "      <td>'5-6 hours'</td>\n",
       "      <td>Moderate</td>\n",
       "      <td>BSc</td>\n",
       "      <td>No</td>\n",
       "      <td>3.0</td>\n",
       "      <td>2.0</td>\n",
       "      <td>Yes</td>\n",
       "      <td>0</td>\n",
       "    </tr>\n",
       "    <tr>\n",
       "      <th>2</th>\n",
       "      <td>26</td>\n",
       "      <td>Male</td>\n",
       "      <td>31.0</td>\n",
       "      <td>Srinagar</td>\n",
       "      <td>Student</td>\n",
       "      <td>3.0</td>\n",
       "      <td>0.0</td>\n",
       "      <td>7.03</td>\n",
       "      <td>5.0</td>\n",
       "      <td>0.0</td>\n",
       "      <td>'Less than 5 hours'</td>\n",
       "      <td>Healthy</td>\n",
       "      <td>BA</td>\n",
       "      <td>No</td>\n",
       "      <td>9.0</td>\n",
       "      <td>1.0</td>\n",
       "      <td>Yes</td>\n",
       "      <td>0</td>\n",
       "    </tr>\n",
       "    <tr>\n",
       "      <th>3</th>\n",
       "      <td>30</td>\n",
       "      <td>Female</td>\n",
       "      <td>28.0</td>\n",
       "      <td>Varanasi</td>\n",
       "      <td>Student</td>\n",
       "      <td>3.0</td>\n",
       "      <td>0.0</td>\n",
       "      <td>5.59</td>\n",
       "      <td>2.0</td>\n",
       "      <td>0.0</td>\n",
       "      <td>'7-8 hours'</td>\n",
       "      <td>Moderate</td>\n",
       "      <td>BCA</td>\n",
       "      <td>Yes</td>\n",
       "      <td>4.0</td>\n",
       "      <td>5.0</td>\n",
       "      <td>Yes</td>\n",
       "      <td>1</td>\n",
       "    </tr>\n",
       "    <tr>\n",
       "      <th>4</th>\n",
       "      <td>32</td>\n",
       "      <td>Female</td>\n",
       "      <td>25.0</td>\n",
       "      <td>Jaipur</td>\n",
       "      <td>Student</td>\n",
       "      <td>4.0</td>\n",
       "      <td>0.0</td>\n",
       "      <td>8.13</td>\n",
       "      <td>3.0</td>\n",
       "      <td>0.0</td>\n",
       "      <td>'5-6 hours'</td>\n",
       "      <td>Moderate</td>\n",
       "      <td>M.Tech</td>\n",
       "      <td>Yes</td>\n",
       "      <td>1.0</td>\n",
       "      <td>1.0</td>\n",
       "      <td>No</td>\n",
       "      <td>0</td>\n",
       "    </tr>\n",
       "  </tbody>\n",
       "</table>\n",
       "</div>"
      ],
      "text/plain": [
       "   id  gender   age           city profession  academic pressure  \\\n",
       "0   2    Male  33.0  Visakhapatnam    Student                5.0   \n",
       "1   8  Female  24.0      Bangalore    Student                2.0   \n",
       "2  26    Male  31.0       Srinagar    Student                3.0   \n",
       "3  30  Female  28.0       Varanasi    Student                3.0   \n",
       "4  32  Female  25.0         Jaipur    Student                4.0   \n",
       "\n",
       "   work pressure  cgpa  study satisfaction  job satisfaction  \\\n",
       "0            0.0  8.97                 2.0               0.0   \n",
       "1            0.0  5.90                 5.0               0.0   \n",
       "2            0.0  7.03                 5.0               0.0   \n",
       "3            0.0  5.59                 2.0               0.0   \n",
       "4            0.0  8.13                 3.0               0.0   \n",
       "\n",
       "        sleep duration dietary habits   degree  \\\n",
       "0          '5-6 hours'        Healthy  B.Pharm   \n",
       "1          '5-6 hours'       Moderate      BSc   \n",
       "2  'Less than 5 hours'        Healthy       BA   \n",
       "3          '7-8 hours'       Moderate      BCA   \n",
       "4          '5-6 hours'       Moderate   M.Tech   \n",
       "\n",
       "  have you ever had suicidal thoughts ?  work/study hours financial stress  \\\n",
       "0                                   Yes               3.0              1.0   \n",
       "1                                    No               3.0              2.0   \n",
       "2                                    No               9.0              1.0   \n",
       "3                                   Yes               4.0              5.0   \n",
       "4                                   Yes               1.0              1.0   \n",
       "\n",
       "  family history of mental illness  depression  \n",
       "0                               No           1  \n",
       "1                              Yes           0  \n",
       "2                              Yes           0  \n",
       "3                              Yes           1  \n",
       "4                               No           0  "
      ]
     },
     "execution_count": 9,
     "metadata": {},
     "output_type": "execute_result"
    }
   ],
   "source": [
    "df.head(5)"
   ]
  },
  {
   "cell_type": "markdown",
   "id": "4c7a75fc",
   "metadata": {},
   "source": [
    "### Prevalência Geral de Depressão na Amostra\n",
    "\n",
    "Inicialmente, calculamos a prevalência geral de depressão em toda a amostra. Utilizando uma função para calcular a porcentagem, constatamos que aproximadamente **58.55%** dos participantes da amostra foram diagnosticados com depressão. Este número representa a proporção geral da condição em nosso conjunto de dados antes de explorarmos as associações com outras variáveis, como o gênero, profissão, horas de sono, dentre outras."
   ]
  },
  {
   "cell_type": "code",
   "execution_count": 10,
   "id": "e74ea816",
   "metadata": {},
   "outputs": [],
   "source": [
    "def cal_porcentagem(x, y):\n",
    "    percent = (x / y) * 100\n",
    "    return(f\"{percent:.2f}\")"
   ]
  },
  {
   "cell_type": "code",
   "execution_count": 11,
   "id": "5f658b4b",
   "metadata": {},
   "outputs": [
    {
     "data": {
      "text/plain": [
       "'58.55'"
      ]
     },
     "execution_count": 11,
     "metadata": {},
     "output_type": "execute_result"
    }
   ],
   "source": [
    "cal_porcentagem(df[df[\"depression\"] == 1].shape[0], df.shape[0])"
   ]
  },
  {
   "cell_type": "markdown",
   "id": "3eb97da1",
   "metadata": {},
   "source": [
    "### Relação entre Gênero e Depressão\n",
    "\n",
    "Nesta seção, investigaremos a relação entre o gênero dos participantes e a ocorrência de depressão. Inicialmente, é importante notar que a amostra analisada possui uma maioria de participantes do sexo masculino (15.547 homens e 12.354 mulheres). Essa distribuição desigual deve ser levada em consideração ao interpretar os resultados desta análise.\n",
    "\n",
    "A tabela de contingência abaixo mostra a contagem de participantes para cada combinação de gênero (Masculino e Feminino) e status de depressão (0 = Não diagnosticado com depressão, 1 = Diagnosticado com depressão), em seguida, uma tabela com as respectivas porcentagens.\n",
    "\n",
    "Em seguida, para visualizar essa relação de forma mais clara e comparar as contagens de depressão entre os gêneros, utilizaremos um gráfico de barras agrupadas. Este gráfico exibirá, para cada gênero, duas barras lado a lado: uma representando o número de participantes sem depressão e outra representando o número de participantes com depressão.\n",
    "\n",
    "**Consideração sobre a Amostra:** A diferença na prevalência de depressão entre os gêneros nesta amostra parece ser pequena (aproximadamente 0.18 pontos percentuais), o que pode ser influenciado pelo desbalanceamento da amostra."
   ]
  },
  {
   "cell_type": "code",
   "execution_count": 12,
   "id": "7a1db4d6",
   "metadata": {},
   "outputs": [
    {
     "name": "stdout",
     "output_type": "stream",
     "text": [
      "\n",
      "Divisão de Gênero com e sem Depressão\n",
      "\n",
      "depression      0      1  Total\n",
      "gender                         \n",
      "Female       5133   7221  12354\n",
      "Male         6432   9115  15547\n",
      "Total       11565  16336  27901\n",
      "\n",
      "----------------------------------\n",
      "\n",
      "Quantos % de cada gênero tem depressão?\n",
      "\n",
      "        Gender  Percentual\n",
      "gender                    \n",
      "Male      Male       58.63\n",
      "Female  Female       58.45\n"
     ]
    }
   ],
   "source": [
    "tabela_genero_depressao = pd.crosstab(df['gender'], df['depression'], margins=True, margins_name=\"Total\")\n",
    "\n",
    "total_por_genero = df['gender'].value_counts()\n",
    "\n",
    "depressao_por_genero = df[df[\"depression\"] == 1][\"gender\"].value_counts()\n",
    "\n",
    "df_percentual = pd.DataFrame({\n",
    "    'Gender': depressao_por_genero.index,\n",
    "    'Percentual': (depressao_por_genero / total_por_genero * 100).round(2)\n",
    "})\n",
    "\n",
    "\n",
    "print(\"\\nDivisão de Gênero com e sem Depressão\\n\")\n",
    "print(tabela_genero_depressao)\n",
    "print(\"\\n----------------------------------\\n\")\n",
    "print(\"Quantos % de cada gênero tem depressão?\\n\")\n",
    "print(df_percentual)"
   ]
  },
  {
   "cell_type": "code",
   "execution_count": 13,
   "id": "8639a43a",
   "metadata": {},
   "outputs": [
    {
     "data": {
      "image/png": "[encoded data removed]",
      "text/plain": [
       "<Figure size 800x600 with 1 Axes>"
      ]
     },
     "metadata": {},
     "output_type": "display_data"
    }
   ],
   "source": [
    "tabela_genero_depressao = pd.crosstab(df['gender'], df['depression'])\n",
    "\n",
    "df_long = tabela_genero_depressao.reset_index().melt(\n",
    "    id_vars='gender',\n",
    "    value_vars=[0, 1],\n",
    "    var_name='depression',\n",
    "    value_name='Count'\n",
    ")\n",
    "\n",
    "df_long['depression'] = df_long['depression'].map({0: 'Sem Depressão', 1: 'Com Depressão'})\n",
    "\n",
    "plt.figure(figsize=(8, 6))\n",
    "ax = sns.barplot(x='gender', y='Count', hue='depression', data=df_long, palette={'Sem Depressão': 'skyblue', 'Com Depressão': 'lightcoral'})\n",
    "\n",
    "for p in ax.patches:\n",
    "    height = p.get_height()\n",
    "    width = p.get_width()\n",
    "    x = p.get_x() + width / 2\n",
    "    y = height + 3\n",
    "    ax.text(x, y, f'{int(height)}', ha='center', va='bottom')\n",
    "\n",
    "plt.title('Depressão por Gênero')\n",
    "plt.xlabel('Gênero')\n",
    "plt.ylabel('Número de Participantes')\n",
    "plt.legend(title='Depressão')\n",
    "plt.show()"
   ]
  },
  {
   "cell_type": "markdown",
   "id": "1d26af2a",
   "metadata": {},
   "source": [
    "### Prevalência de Depressão por Faixa Etária - Foco em Jovens Adultos\n",
    "\n",
    "Nesta seção, investigamos a distribuição da depressão entre diferentes faixas etárias dos participantes. A coluna 'Age' foi categorizada em três grupos: 'Young Adult' (18-35 anos), 'Adult' (36-50 anos) e 'Elderly' (51-100 anos). A tabela de contingência abaixo exibe a contagem de participantes com e sem depressão em cada faixa etária.\n",
    "\n",
    "Como a maioria dos participantes se encontra na faixa etária de 'Young Adult', focamos nossa análise nesse grupo. Dos 26275 Jovens Adultos, 15109 relataram ter depressão, o que corresponde a aproximadamente **57.50%** desse grupo. Para visualizar essa distribuição dentro dos Jovens Adultos, o gráfico de barras abaixo compara a porcentagem daqueles com e sem depressão.\n"
   ]
  },
  {
   "cell_type": "code",
   "execution_count": 14,
   "id": "90c51178",
   "metadata": {},
   "outputs": [],
   "source": [
    "df['ageGroup'] = pd.cut(\n",
    "    df['age'],\n",
    "    bins = [18, 35, 51, 100],\n",
    "    labels =['Young Adult', 'Adult', 'Elderly' ]\n",
    ")"
   ]
  },
  {
   "cell_type": "code",
   "execution_count": 15,
   "id": "42d78b08",
   "metadata": {},
   "outputs": [
    {
     "data": {
      "text/html": [
       "<div>\n",
       "<style scoped>\n",
       "    .dataframe tbody tr th:only-of-type {\n",
       "        vertical-align: middle;\n",
       "    }\n",
       "\n",
       "    .dataframe tbody tr th {\n",
       "        vertical-align: top;\n",
       "    }\n",
       "\n",
       "    .dataframe thead th {\n",
       "        text-align: right;\n",
       "    }\n",
       "</style>\n",
       "<table border=\"1\" class=\"dataframe\">\n",
       "  <thead>\n",
       "    <tr style=\"text-align: right;\">\n",
       "      <th>ageGroup</th>\n",
       "      <th>Young Adult</th>\n",
       "      <th>Adult</th>\n",
       "      <th>Elderly</th>\n",
       "      <th>Total</th>\n",
       "    </tr>\n",
       "    <tr>\n",
       "      <th>depression</th>\n",
       "      <th></th>\n",
       "      <th></th>\n",
       "      <th></th>\n",
       "      <th></th>\n",
       "    </tr>\n",
       "  </thead>\n",
       "  <tbody>\n",
       "    <tr>\n",
       "      <th>0</th>\n",
       "      <td>11166</td>\n",
       "      <td>24</td>\n",
       "      <td>4</td>\n",
       "      <td>11194</td>\n",
       "    </tr>\n",
       "    <tr>\n",
       "      <th>1</th>\n",
       "      <td>15109</td>\n",
       "      <td>11</td>\n",
       "      <td>0</td>\n",
       "      <td>15120</td>\n",
       "    </tr>\n",
       "    <tr>\n",
       "      <th>Total</th>\n",
       "      <td>26275</td>\n",
       "      <td>35</td>\n",
       "      <td>4</td>\n",
       "      <td>26314</td>\n",
       "    </tr>\n",
       "  </tbody>\n",
       "</table>\n",
       "</div>"
      ],
      "text/plain": [
       "ageGroup    Young Adult  Adult  Elderly  Total\n",
       "depression                                    \n",
       "0                 11166     24        4  11194\n",
       "1                 15109     11        0  15120\n",
       "Total             26275     35        4  26314"
      ]
     },
     "execution_count": 15,
     "metadata": {},
     "output_type": "execute_result"
    }
   ],
   "source": [
    "pd.crosstab(df[\"depression\"], df[\"ageGroup\"], margins=True, margins_name=\"Total\")"
   ]
  },
  {
   "cell_type": "code",
   "execution_count": 16,
   "id": "87e18d97",
   "metadata": {},
   "outputs": [
    {
     "data": {
      "text/plain": [
       "'57.50'"
      ]
     },
     "execution_count": 16,
     "metadata": {},
     "output_type": "execute_result"
    }
   ],
   "source": [
    "total_young_adults = 26275\n",
    "young_adults_depressed = 15109\n",
    "\n",
    "cal_porcentagem(young_adults_depressed, total_young_adults)"
   ]
  },
  {
   "cell_type": "code",
   "execution_count": 17,
   "id": "de067672",
   "metadata": {},
   "outputs": [
    {
     "data": {
      "image/png": "[encoded data removed]",
      "text/plain": [
       "<Figure size 600x400 with 1 Axes>"
      ]
     },
     "metadata": {},
     "output_type": "display_data"
    }
   ],
   "source": [
    "labels = ['Com Depressão', 'Sem Depressão']\n",
    "porcentagens = [57.50, 42.50]\n",
    "colors = ['lightcoral', 'skyblue']\n",
    "\n",
    "plt.figure(figsize=(6, 4))\n",
    "sns.barplot(x=labels, y=porcentagens, hue=labels, palette=colors, legend=False)\n",
    "plt.title('Distribuição de Depressão entre Adultos Jovens (%)')\n",
    "plt.xlabel('Status de Depressão')\n",
    "plt.ylabel('Porcentagem (%)')\n",
    "plt.ylim(0, 100)\n",
    "\n",
    "for i, v in enumerate(porcentagens):\n",
    "    plt.text(i, v + 2, f'{v:.2f}%', ha='center', va='bottom')\n",
    "\n",
    "plt.show()"
   ]
  },
  {
   "cell_type": "markdown",
   "id": "0ae41aea",
   "metadata": {},
   "source": [
    "### Relação entre Depressão e Histórico Familiar de Doença Mental\n",
    "\n",
    "Nesta seção, investigamos a possível associação entre o histórico familiar de doença mental e a ocorrência de depressão entre os participantes da pesquisa. Realizamos um agrupamento dos dados pela coluna 'Family History of Mental Illness' e calculamos a porcentagem de participantes com e sem depressão em cada grupo.\n",
    "\n",
    "Para verificar a significância estatística dessa aparente diferença nas proporções, aplicamos o teste Qui-Quadrado de Independência, que retornou um p-valor de **0.566**. Este valor é consideravelmente maior que o limiar de 0.05, indicando que **não há uma associação estatisticamente significativa** entre ter histórico familiar de doença mental e a ocorrência de depressão na nossa amostra. As diferenças observadas nas porcentagens podem ser atribuídas à variabilidade aleatória.\n",
    "\n",
    "A visualização dessas porcentagens em um gráfico de barras agrupadas reforça essa conclusão."
   ]
  },
  {
   "cell_type": "code",
   "execution_count": 18,
   "id": "84e05b59",
   "metadata": {},
   "outputs": [
    {
     "data": {
      "text/plain": [
       "family history of mental illness  depression\n",
       "No                                1             56.0\n",
       "                                  0             44.0\n",
       "Yes                               1             61.0\n",
       "                                  0             39.0\n",
       "Name: proportion, dtype: float64"
      ]
     },
     "execution_count": 18,
     "metadata": {},
     "output_type": "execute_result"
    }
   ],
   "source": [
    "df.groupby(['family history of mental illness'])[['depression']].value_counts(normalize=True).round(2) * 100"
   ]
  },
  {
   "cell_type": "code",
   "execution_count": 19,
   "id": "a6cb6cbb",
   "metadata": {},
   "outputs": [
    {
     "name": "stdout",
     "output_type": "stream",
     "text": [
      "p-valor: 0.5659399677184773\n"
     ]
    }
   ],
   "source": [
    "data = [[44, 56],  \n",
    "        [39, 61]] \n",
    "\n",
    "chi2, p, dof, expected = chi2_contingency(data)\n",
    "print(f'p-valor: {p}')"
   ]
  },
  {
   "cell_type": "code",
   "execution_count": 20,
   "id": "c2cad723",
   "metadata": {},
   "outputs": [
    {
     "data": {
      "image/png": "[encoded data removed]",
      "text/plain": [
       "<Figure size 800x600 with 1 Axes>"
      ]
     },
     "metadata": {},
     "output_type": "display_data"
    }
   ],
   "source": [
    "data = {\n",
    "    'Histórico Familiar': ['Não', 'Não', 'Sim', 'Sim'],\n",
    "    'Depressão': ['Sim', 'Não', 'Sim', 'Não'],\n",
    "    'Porcentagem': [56.0, 44.0, 61.0, 39.0]\n",
    "}\n",
    "df_plot = pd.DataFrame(data)\n",
    "\n",
    "plt.figure(figsize=(8, 6))\n",
    "ax = sns.barplot(x='Histórico Familiar', y='Porcentagem', hue='Depressão', data=df_plot, palette={'Sim': 'lightcoral', 'Não': 'skyblue'})\n",
    "\n",
    "plt.title('Depressão vs. Histórico Familiar de Doença Mental (%)')\n",
    "plt.xlabel('Histórico Familiar de Doença Mental')\n",
    "plt.ylabel('Porcentagem (%)')\n",
    "plt.ylim(0, 100)\n",
    "plt.legend(title='Depressão')\n",
    "\n",
    "for p in ax.patches:\n",
    "    height = p.get_height()\n",
    "    width = p.get_width()\n",
    "    x = p.get_x() + width / 2\n",
    "    y = height + 1 \n",
    "    ax.text(x, y, f'{height:.1f}%', ha='center', va='bottom')\n",
    "\n",
    "plt.show()"
   ]
  },
  {
   "cell_type": "markdown",
   "id": "4d9e4f4f",
   "metadata": {},
   "source": [
    "### Associação entre Depressão e Pensamentos Suicidas\n",
    "\n",
    "Nesta seção, investigamos a relação entre o diagnóstico de depressão e a ocorrência de pensamentos suicidas entre os participantes da pesquisa. Inicialmente, verificamos se todos os indivíduos com depressão relataram ter tido pensamentos suicidas, e o resultado foi: **False**.\n",
    "\n",
    "Em seguida, analisamos a frequência de pensamentos suicidas em participantes com e sem depressão através da seguinte tabela de contingência;\n",
    "\n",
    "A partir dessa tabela, calculamos a porcentagem de pessoas com pensamentos suicidas dentro do grupo com depressão. Constatamos que, de 16336 participantes com depressão, 13957 relataram ter tido pensamentos suicidas, o que representa aproximadamente **85.44%** desse grupo. Em contraste, aproximadamente **31.98%** das pessoas sem depressão relataram ter tido pensamentos suicidas (calculado como 3699/11565 * 100).\n",
    "\n",
    "Para visualizar essa forte associação, o gráfico de barras abaixo compara a porcentagem de participantes com pensamentos suicidas entre aqueles com e sem diagnóstico de depressão."
   ]
  },
  {
   "cell_type": "code",
   "execution_count": 21,
   "id": "405687e5",
   "metadata": {},
   "outputs": [
    {
     "name": "stdout",
     "output_type": "stream",
     "text": [
      "Todas as pessoas com depressão relataram pensamentos suicidas? False\n"
     ]
    }
   ],
   "source": [
    "depressed = df[df['depression'] == 1]\n",
    "\n",
    "all_depressed_had_thoughts = (depressed['have you ever had suicidal thoughts ?'] == 1).all()\n",
    "\n",
    "print(\"Todas as pessoas com depressão relataram pensamentos suicidas?\", all_depressed_had_thoughts)"
   ]
  },
  {
   "cell_type": "code",
   "execution_count": 22,
   "id": "5af1a93c",
   "metadata": {},
   "outputs": [
    {
     "name": "stdout",
     "output_type": "stream",
     "text": [
      "have you ever had suicidal thoughts ?     No    Yes  Total\n",
      "depression                                                \n",
      "0                                       7866   3699  11565\n",
      "1                                       2379  13957  16336\n",
      "Total                                  10245  17656  27901\n"
     ]
    }
   ],
   "source": [
    "cross_tab = pd.crosstab(\n",
    "    df['depression'],\n",
    "    df['have you ever had suicidal thoughts ?'],\n",
    "    margins=True,\n",
    "    margins_name=\"Total\"\n",
    ")\n",
    "\n",
    "print(cross_tab)"
   ]
  },
  {
   "cell_type": "code",
   "execution_count": 23,
   "id": "4e4dd007",
   "metadata": {},
   "outputs": [
    {
     "data": {
      "text/plain": [
       "'85.44'"
      ]
     },
     "execution_count": 23,
     "metadata": {},
     "output_type": "execute_result"
    }
   ],
   "source": [
    "cal_porcentagem(13957, 16336)"
   ]
  },
  {
   "cell_type": "code",
   "execution_count": 24,
   "id": "f7df605a",
   "metadata": {},
   "outputs": [
    {
     "data": {
      "image/png": "[encoded data removed]",
      "text/plain": [
       "<Figure size 800x600 with 1 Axes>"
      ]
     },
     "metadata": {},
     "output_type": "display_data"
    }
   ],
   "source": [
    "data = {\n",
    "    'Depressão': ['Não', 'Sim'],\n",
    "    'Pensamentos Suicidas (Sim)': [3699, 13957],\n",
    "    'Total': [11565, 16336]\n",
    "}\n",
    "df_plot = pd.DataFrame(data)\n",
    "\n",
    "df_plot['Percentage'] = (df_plot['Pensamentos Suicidas (Sim)'] / df_plot['Total']) * 100\n",
    "\n",
    "plt.figure(figsize=(8, 6))\n",
    "ax = sns.barplot(x='Depressão', y='Percentage', hue='Depressão', data=df_plot, palette=['skyblue', 'lightcoral'], legend=False)\n",
    "plt.title('Porcentagem de Pensamentos Suicidas por Diagnóstico de Depressão')\n",
    "plt.xlabel('Diagnóstico de Depressão')\n",
    "plt.ylabel('Porcentagem com Pensamentos Suicidas (%)')\n",
    "plt.ylim(0, 100)\n",
    "\n",
    "ax.set_xticks([0, 1])\n",
    "ax.set_xticklabels(['Sem depressão', 'Com depressão'])\n",
    "\n",
    "for p in ax.patches:\n",
    "    height = p.get_height()\n",
    "    ax.text(p.get_x() + p.get_width() / 2., height + 1, f'{height:.2f}%', ha='center', va='bottom')\n",
    "\n",
    "plt.show()"
   ]
  },
  {
   "cell_type": "markdown",
   "id": "38112942",
   "metadata": {},
   "source": [
    "### Relação entre Horas de Estudo/Trabalho e Depressão\n",
    "\n",
    "Nesta seção, investigamos a possível associação entre o número de horas dedicadas ao estudo (considerando a grande predominância de estudantes na amostra) ou trabalho e a ocorrência de depressão. A análise da distribuição das profissões revelou que a grande maioria dos participantes (27870) se identificou como estudante, sugerindo que as horas reportadas na coluna 'Work/Study Hours' referem-se principalmente ao tempo dedicado aos estudos.\n",
    "\n",
    "Ao analisar a porcentagem de participantes com depressão para cada faixa de horas de estudo/trabalho, observamos a seguinte tendência:\n",
    "\n",
    "O gráfico de linhas indica que, em geral, a porcentagem de participantes com depressão tende a aumentar à medida que o número de horas de estudo/trabalho se eleva, especialmente acima de 4 horas diárias. **É importante ressaltar que, devido à predominância de estudantes na amostra, essa relação reflete principalmente a associação entre a carga horária de estudo e a depressão.**"
   ]
  },
  {
   "cell_type": "code",
   "execution_count": 25,
   "id": "84bbe71e",
   "metadata": {},
   "outputs": [
    {
     "data": {
      "text/plain": [
       "profession\n",
       "Student                     27870\n",
       "Architect                       8\n",
       "Teacher                         6\n",
       "'Digital Marketer'              3\n",
       "Chef                            2\n",
       "'Content Writer'                2\n",
       "Pharmacist                      2\n",
       "Doctor                          2\n",
       "'UX/UI Designer'                1\n",
       "'Civil Engineer'                1\n",
       "Manager                         1\n",
       "'Educational Consultant'        1\n",
       "Lawyer                          1\n",
       "Entrepreneur                    1\n",
       "Name: count, dtype: int64"
      ]
     },
     "execution_count": 25,
     "metadata": {},
     "output_type": "execute_result"
    }
   ],
   "source": [
    "df[\"profession\"].value_counts()"
   ]
  },
  {
   "cell_type": "code",
   "execution_count": 26,
   "id": "59212e1b",
   "metadata": {},
   "outputs": [
    {
     "data": {
      "text/plain": [
       "work/study hours\n",
       "10.0    4234\n",
       "12.0    3172\n",
       "11.0    2892\n",
       "8.0     2509\n",
       "6.0     2247\n",
       "9.0     2026\n",
       "7.0     2001\n",
       "0.0     1700\n",
       "4.0     1614\n",
       "2.0     1590\n",
       "3.0     1470\n",
       "5.0     1296\n",
       "1.0     1150\n",
       "Name: count, dtype: int64"
      ]
     },
     "execution_count": 26,
     "metadata": {},
     "output_type": "execute_result"
    }
   ],
   "source": [
    "df[\"work/study hours\"].value_counts()"
   ]
  },
  {
   "cell_type": "code",
   "execution_count": 27,
   "id": "ab944b49",
   "metadata": {},
   "outputs": [
    {
     "data": {
      "text/plain": [
       "work/study hours  depression\n",
       "0.0               0             1096\n",
       "                  1              604\n",
       "1.0               0              686\n",
       "                  1              464\n",
       "2.0               0              894\n",
       "                  1              696\n",
       "3.0               0              773\n",
       "                  1              697\n",
       "4.0               1              815\n",
       "                  0              799\n",
       "5.0               1              706\n",
       "                  0              590\n",
       "6.0               1             1288\n",
       "                  0              959\n",
       "7.0               1             1176\n",
       "                  0              825\n",
       "8.0               1             1568\n",
       "                  0              941\n",
       "9.0               1             1214\n",
       "                  0              812\n",
       "10.0              1             2979\n",
       "                  0             1255\n",
       "11.0              1             1960\n",
       "                  0              932\n",
       "12.0              1             2169\n",
       "                  0             1003\n",
       "Name: count, dtype: int64"
      ]
     },
     "execution_count": 27,
     "metadata": {},
     "output_type": "execute_result"
    }
   ],
   "source": [
    "\n",
    "df.groupby(['work/study hours'])[['depression']].value_counts()\n"
   ]
  },
  {
   "cell_type": "code",
   "execution_count": 28,
   "id": "58939a22",
   "metadata": {},
   "outputs": [
    {
     "data": {
      "image/png": "[encoded data removed]",
      "text/plain": [
       "<Figure size 1000x600 with 1 Axes>"
      ]
     },
     "metadata": {},
     "output_type": "display_data"
    }
   ],
   "source": [
    "data = {\n",
    "    'Work/Study Hours': [0.0, 1.0, 2.0, 3.0, 4.0, 5.0, 6.0, 7.0, 8.0, 9.0, 10.0, 11.0, 12.0],\n",
    "    'Depression_Percentage': [36.0, 40.0, 44.0, 47.0, 50.0, 54.0, 57.0, 59.0, 62.0, 60.0, 70.0, 68.0, 68.0]\n",
    "}\n",
    "df_plot = pd.DataFrame(data)\n",
    "\n",
    "plt.figure(figsize=(10, 6))\n",
    "sns.lineplot(x='Work/Study Hours', y='Depression_Percentage', data=df_plot, marker='o')\n",
    "plt.title('Porcentagem de Depressão por Horas de Estudo/Trabalho')\n",
    "plt.xlabel('Horas de Estudo/Trabalho')\n",
    "plt.ylabel('Porcentagem com Depressão (%)')\n",
    "plt.xticks(df_plot['Work/Study Hours'])\n",
    "plt.yticks(range(0, 101, 10))\n",
    "plt.grid(True)\n",
    "\n",
    "plt.show()"
   ]
  },
  {
   "cell_type": "markdown",
   "id": "c284f6f1",
   "metadata": {},
   "source": [
    "### Relação entre Duração do Sono e Depressão\n",
    "\n",
    "Nesta seção, investigamos a associação entre a duração habitual do sono dos participantes e a ocorrência de depressão. Ao analisarmos a distribuição da depressão nas diferentes categorias de duração do sono, observamos uma prevalência notavelmente alta de indivíduos diagnosticados com depressão em todos os grupos. A tabela de contingência abaixo ilustra essa distribuição.\n",
    "\n",
    "Apesar dessa alta incidência geral de depressão, investigamos a significância estatística das diferenças nas proporções de depressão entre os grupos de duração do sono aplicando o teste Qui-Quadrado de Independência. O resultado do teste revelou um p-valor de **0.0000**, indicando uma **associação estatisticamente significativa** entre a duração do sono e a depressão na nossa amostra.\n",
    "\n",
    "O gráfico de barras sugere uma relação entre a duração do sono e a prevalência de depressão. Observamos que a maior porcentagem de depressão ocorre entre aqueles que dormem **menos de 5 horas** por noite (65.0%). Interessantemente, dormir **mais de 8 horas** também está associado a uma taxa de depressão maior (51.0%) em comparação com aqueles que dormem na faixa considerada ideal de 7-8 horas (60.0%). A categoria 'Others', apresenta uma taxa de depressão de 50.0%, mas por ter um número pequeno de participantes nao foi adicionado no gráfico. \n",
    "\n",
    "Esses resultados reforçam a importância da qualidade e da duração do sono na saúde mental, mesmo em um contexto de alta prevalência geral de depressão na amostra. **É importante notar que esta análise se concentrou na duração do sono. Futuras investigações poderiam explorar a qualidade do sono, analisando as diferentes fases como o sono REM e o sono profundo, que podem ter associações ainda mais específicas com a ocorrência de depressão.**"
   ]
  },
  {
   "cell_type": "code",
   "execution_count": 34,
   "id": "d7d65bf3",
   "metadata": {},
   "outputs": [
    {
     "name": "stdout",
     "output_type": "stream",
     "text": [
      "depression               0      1  Total\n",
      "sleep duration                          \n",
      "'5-6 hours'           2666   3517   6183\n",
      "'7-8 hours'           2975   4371   7346\n",
      "'Less than 5 hours'   2949   5361   8310\n",
      "'More than 8 hours'   2966   3078   6044\n",
      "Others                   9      9     18\n",
      "Total                11565  16336  27901\n"
     ]
    }
   ],
   "source": [
    "cross_tab = pd.crosstab(\n",
    "    df['sleep duration'],\n",
    "    df['depression'],\n",
    "    margins=True,\n",
    "    margins_name=\"Total\"\n",
    ")\n",
    "print(cross_tab)"
   ]
  },
  {
   "cell_type": "code",
   "execution_count": 30,
   "id": "1f36d007",
   "metadata": {},
   "outputs": [
    {
     "data": {
      "text/plain": [
       "sleep duration       depression\n",
       "'5-6 hours'          1             57.0\n",
       "                     0             43.0\n",
       "'7-8 hours'          1             60.0\n",
       "                     0             40.0\n",
       "'Less than 5 hours'  1             65.0\n",
       "                     0             35.0\n",
       "'More than 8 hours'  1             51.0\n",
       "                     0             49.0\n",
       "Others               0             50.0\n",
       "                     1             50.0\n",
       "Name: proportion, dtype: float64"
      ]
     },
     "execution_count": 30,
     "metadata": {},
     "output_type": "execute_result"
    }
   ],
   "source": [
    "df.groupby(['sleep duration'])[['depression']].value_counts(normalize=True).round(2) * 100"
   ]
  },
  {
   "cell_type": "code",
   "execution_count": 31,
   "id": "95dfdd50",
   "metadata": {},
   "outputs": [
    {
     "name": "stdout",
     "output_type": "stream",
     "text": [
      "p-valor: 0.0000\n"
     ]
    }
   ],
   "source": [
    "data = [\n",
    "    [2666, 3517],\n",
    "    [2975, 4371],\n",
    "    [2949, 5361],\n",
    "    [2966, 3078],\n",
    "    [9, 9]      \n",
    "]\n",
    "chi2, p, dof, expected = chi2_contingency(data)\n",
    "\n",
    "print(f'p-valor: {p:.4f}')\n",
    "\n"
   ]
  },
  {
   "cell_type": "code",
   "execution_count": null,
   "id": "e123dee6",
   "metadata": {},
   "outputs": [
    {
     "data": {
      "image/png": "[encoded data removed]",
      "text/plain": [
       "<Figure size 1000x600 with 1 Axes>"
      ]
     },
     "metadata": {},
     "output_type": "display_data"
    }
   ],
   "source": [
    "data = {\n",
    "    'Sleep Duration': ['5-6 horas', '7-8 horas', 'Menos que 5 horas', 'Mais que 8 horas'],\n",
    "    'Depression_Percentage': [57.0, 60.0, 65.0, 51.0]\n",
    "}\n",
    "df_plot = pd.DataFrame(data)\n",
    "\n",
    "order = ['Menos que 5 horas', '5-6 horas', '7-8 horas', 'Mais que 8 horas']\n",
    "df_plot['sleep duration'] = pd.Categorical(df_plot['Sleep Duration'], categories=order, ordered=True)\n",
    "df_plot = df_plot.sort_values('Sleep Duration')\n",
    "\n",
    "plt.figure(figsize=(10, 6))\n",
    "ax = sns.barplot(x='Sleep Duration', y='Depression_Percentage', hue='sleep duration', data=df_plot, palette='viridis', legend=False)\n",
    "plt.title('Porcentagem de Depressão por Duração do Sono')\n",
    "plt.xlabel('Duração do Sono')\n",
    "plt.ylabel('Porcentagem com Depressão (%)')\n",
    "plt.ylim(0, 100)\n",
    "plt.xticks(rotation=45, ha='right')\n",
    "\n",
    "for p in ax.patches:\n",
    "    height = p.get_height()\n",
    "    ax.text(p.get_x() + p.get_width() / 2., height + 1, f'{height:.1f}%', ha='center', va='bottom')\n",
    "\n",
    "plt.tight_layout()\n",
    "plt.show()"
   ]
  }
 ],
 "metadata": {
  "kernelspec": {
   "display_name": "Python 3",
   "language": "python",
   "name": "python3"
  },
  "language_info": {
   "codemirror_mode": {
    "name": "ipython",
    "version": 3
   },
   "file_extension": ".py",
   "mimetype": "text/x-python",
   "name": "python",
   "nbconvert_exporter": "python",
   "pygments_lexer": "ipython3",
   "version": "3.13.2"
  }
 },
 "nbformat": 4,
 "nbformat_minor": 5
}
